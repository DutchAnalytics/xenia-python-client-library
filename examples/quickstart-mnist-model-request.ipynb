{
 "cells": [
  {
   "cell_type": "markdown",
   "metadata": {},
   "source": [
    "# Quickstart model request demo <img src=\"https://dutchanalytics.com/wp-content/uploads/2020/02/svg_logo_dutch_analytics-1.svg\" width=\"50\">\n",
    "Make requests to an already deployed mnist model\n",
    "\n",
    "The first step is to download some sample data"
   ]
  },
  {
   "cell_type": "code",
   "execution_count": null,
   "metadata": {},
   "outputs": [],
   "source": [
    "!curl -X GET https://storage.googleapis.com/da-xenia/example-model-package/1.jpg -o 1.jpg"
   ]
  },
  {
   "cell_type": "markdown",
   "metadata": {},
   "source": [
    "Add your API token, provide a project name, model name and model version name. \n",
    "Afterward initialize the client library."
   ]
  },
  {
   "cell_type": "code",
   "execution_count": null,
   "metadata": {},
   "outputs": [],
   "source": [
    "API_TOKEN='Token <YOUR API_KEY>'\n",
    "PROJECT_NAME='<YOUR PROJECT NAME>'\n",
    "MODEL_NAME='<YOUR MODEL NAME>'\n",
    "MODEL_VERSION='<YOUR MODEL VERSION>'\n",
    "\n",
    "import xenia_python_client_library as xenia\n",
    "configuration = xenia.Configuration()\n",
    "configuration.api_key['Authorization'] = API_TOKEN\n",
    "client = xenia.ApiClient(configuration)\n",
    "api = xenia.CoreApi(client)"
   ]
  },
  {
   "cell_type": "markdown",
   "metadata": {},
   "source": [
    "Do a model request. Make sure the model is in 'available' state before performing model requests."
   ]
  },
  {
   "cell_type": "code",
   "execution_count": null,
   "metadata": {},
   "outputs": [],
   "source": [
    "model_request = api.model_requests_create_blob(\n",
    "    project_name=f'{PROJECT_NAME}',\n",
    "    model_name=f'{MODEL_NAME}',\n",
    "    version=f'{MODEL_VERSION}',\n",
    "    file='1.jpg'\n",
    ")\n",
    "print(model_request)"
   ]
  },
  {
   "cell_type": "markdown",
   "metadata": {},
   "source": [
    "Retrieve the result of the request. The first request may take a little while, as the model is not initialized yet."
   ]
  },
  {
   "cell_type": "code",
   "execution_count": null,
   "metadata": {},
   "outputs": [],
   "source": [
    "from time import sleep\n",
    "status = 'pending'\n",
    "while status == 'pending': \n",
    "    model_result = api.model_requests_get(\n",
    "        project_name=f'{PROJECT_NAME}',\n",
    "        model_name=f'{MODEL_NAME}',\n",
    "        version=f'{MODEL_VERSION}',\n",
    "        request_id=model_request.request_id\n",
    "    )\n",
    "    status = model_result.status\n",
    "    print(status, end='\\r')\n",
    "    sleep(1)\n",
    "print(model_result)"
   ]
  },
  {
   "cell_type": "markdown",
   "metadata": {},
   "source": [
    "Display the original image"
   ]
  },
  {
   "cell_type": "code",
   "execution_count": null,
   "metadata": {},
   "outputs": [],
   "source": [
    "from IPython.display import Image\n",
    "\n",
    "image_file = '1.jpg'\n",
    "Image(url=image_file, width=100, height=100)"
   ]
  },
  {
   "cell_type": "markdown",
   "metadata": {},
   "source": [
    " "
   ]
  }
 ],
 "metadata": {
  "kernelspec": {
   "display_name": "Python 3",
   "language": "python",
   "name": "python3"
  },
  "language_info": {
   "codemirror_mode": {
    "name": "ipython",
    "version": 3
   },
   "file_extension": ".py",
   "mimetype": "text/x-python",
   "name": "python",
   "nbconvert_exporter": "python",
   "pygments_lexer": "ipython3",
   "version": "3.6.10"
  }
 },
 "nbformat": 4,
 "nbformat_minor": 4
}
