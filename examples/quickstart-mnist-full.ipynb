{
 "cells": [
  {
   "cell_type": "markdown",
   "metadata": {},
   "source": [
    "# Quickstart MNIST demo <img src=\"https://dutchanalytics.com/wp-content/uploads/2020/02/svg_logo_dutch_analytics-1.svg\" width=\"50\">\n",
    "Deploy your first model in Xenia using the python client libraries.\n",
    "\n",
    "\n",
    "The first step is to download a prepared model and some sample data"
   ]
  },
  {
   "cell_type": "code",
   "execution_count": null,
   "metadata": {},
   "outputs": [],
   "source": [
    "!curl -X GET https://storage.googleapis.com/da-xenia/example-model-package/mnist_model_package.zip -o mnist_model_package.zip\n",
    "!curl -X GET https://storage.googleapis.com/da-xenia/example-model-package/1.jpg -o 1.jpg"
   ]
  },
  {
   "cell_type": "markdown",
   "metadata": {},
   "source": [
    "Add your API token, provide a project name, model name and model version name. \n",
    "Afterward initialize the client library."
   ]
  },
  {
   "cell_type": "code",
   "execution_count": null,
   "metadata": {},
   "outputs": [],
   "source": [
    "API_TOKEN='Token <YOUR API_KEY>'\n",
    "PROJECT_NAME='<YOUR PROJECT NAME>'\n",
    "MODEL_NAME='<YOUR MODEL NAME>'\n",
    "MODEL_VERSION='<YOUR MODEL VERSION>'\n",
    "\n",
    "import xenia_python_client_library as xenia\n",
    "configuration = xenia.Configuration()\n",
    "configuration.api_key['Authorization'] = API_TOKEN\n",
    "client = xenia.ApiClient(configuration)\n",
    "api = xenia.CoreApi(client)"
   ]
  },
  {
   "cell_type": "markdown",
   "metadata": {},
   "source": [
    "## Deploy the model\n",
    "Create a model for mnist."
   ]
  },
  {
   "cell_type": "code",
   "execution_count": null,
   "metadata": {},
   "outputs": [],
   "source": [
    "mnist_model_template = xenia.ModelCreate(\n",
    "    name=f'{MODEL_NAME}',\n",
    "    description='A model to classify handwritten digits.',\n",
    "    input_type='structured',\n",
    "    output_type='structured',\n",
    "    input_fields=[\n",
    "        xenia.ModelInputFieldCreate(\n",
    "            name='input_blob',\n",
    "            data_type='blob',\n",
    "        )\n",
    "    ],\n",
    "    output_fields=[\n",
    "        xenia.ModelOutputFieldCreate(\n",
    "            name='prediction',\n",
    "            data_type='int',\n",
    "        ),\n",
    "        xenia.ModelOutputFieldCreate(\n",
    "            name='probability',\n",
    "            data_type='double'\n",
    "        )\n",
    "    ]\n",
    ")\n",
    "\n",
    "mnist_model = api.models_create(\n",
    "    project_name=f'{PROJECT_NAME}',\n",
    "    data=mnist_model_template\n",
    ")\n",
    "print(mnist_model)"
   ]
  },
  {
   "cell_type": "markdown",
   "metadata": {},
   "source": [
    "Create a model version for mnist"
   ]
  },
  {
   "cell_type": "code",
   "execution_count": null,
   "metadata": {},
   "outputs": [],
   "source": [
    "mnist_model_version_template = xenia.ModelVersionCreate(\n",
    "    version=f'{MODEL_VERSION}',\n",
    "    language='python3.6',\n",
    "    memory_allocation=1024,\n",
    "    maximum_instances=1,\n",
    "    minimum_instances=0\n",
    ")\n",
    "\n",
    "mnist_model_version = api.model_versions_create(\n",
    "    project_name=f'{PROJECT_NAME}',\n",
    "    model_name=f'{MODEL_NAME}',\n",
    "    data=mnist_model_version_template\n",
    ")\n",
    "print(mnist_model_version)"
   ]
  },
  {
   "cell_type": "markdown",
   "metadata": {},
   "source": [
    "Upload the prepared model file to the created model version"
   ]
  },
  {
   "cell_type": "code",
   "execution_count": null,
   "metadata": {},
   "outputs": [],
   "source": [
    "file_upload_result =api.model_versions_file_upload(\n",
    "    project_name=f'{PROJECT_NAME}',\n",
    "    model_name=f'{MODEL_NAME}',\n",
    "    version=f'{MODEL_VERSION}',\n",
    "    file='mnist_model_package.zip'\n",
    ")"
   ]
  },
  {
   "cell_type": "markdown",
   "metadata": {},
   "source": [
    "Check if model version is finished building.\n",
    "This can take a few minutes."
   ]
  },
  {
   "cell_type": "code",
   "execution_count": null,
   "metadata": {},
   "outputs": [],
   "source": [
    "from time import sleep\n",
    "status = 'building'\n",
    "print(status)\n",
    "while status != 'available':    \n",
    "    model_version_status = api.model_versions_get(       \n",
    "        project_name=f'{PROJECT_NAME}',        \n",
    "        model_name=f'{MODEL_NAME}',        \n",
    "        version=f'{MODEL_VERSION}'    \n",
    "    )    \n",
    "    status = model_version_status.status\n",
    "    sleep(1)\n",
    "print(status)"
   ]
  },
  {
   "cell_type": "markdown",
   "metadata": {},
   "source": [
    "## Creating a request\n",
    "Do a model request. Make sure the model is in 'available' state before performing model requests."
   ]
  },
  {
   "cell_type": "markdown",
   "metadata": {},
   "source": [
    "First upload the input image."
   ]
  },
  {
   "cell_type": "code",
   "execution_count": null,
   "metadata": {},
   "outputs": [],
   "source": [
    "blob = api.blobs_create(project_name=f'{PROJECT_NAME}', file='1.jpg')"
   ]
  },
  {
   "cell_type": "markdown",
   "metadata": {},
   "source": [
    "Make a request using the blob id as input."
   ]
  },
  {
   "cell_type": "code",
   "execution_count": null,
   "metadata": {},
   "outputs": [],
   "source": [
    "data = {'input_blob': blob.id}\n",
    "model_result = api.model_requests_create(\n",
    "    project_name=f'{PROJECT_NAME}',\n",
    "    model_name=f'{MODEL_NAME}',\n",
    "    version=f'{MODEL_VERSION}',\n",
    "    data=data\n",
    ")\n",
    "print(model_result)"
   ]
  },
  {
   "cell_type": "markdown",
   "metadata": {},
   "source": [
    "## Cleanup\n",
    "Cleanup created model"
   ]
  },
  {
   "cell_type": "code",
   "execution_count": null,
   "metadata": {},
   "outputs": [],
   "source": [
    "api.models_delete(\n",
    "    project_name=f'{PROJECT_NAME}',\n",
    "    model_name=f'{MODEL_NAME}'\n",
    ")"
   ]
  },
  {
   "cell_type": "markdown",
   "metadata": {},
   "source": [
    " "
   ]
  }
 ],
 "metadata": {
  "kernelspec": {
   "display_name": "Python 3",
   "language": "python",
   "name": "python3"
  },
  "language_info": {
   "codemirror_mode": {
    "name": "ipython",
    "version": 3
   },
   "file_extension": ".py",
   "mimetype": "text/x-python",
   "name": "python",
   "nbconvert_exporter": "python",
   "pygments_lexer": "ipython3",
   "version": "3.7.5"
  }
 },
 "nbformat": 4,
 "nbformat_minor": 4
}
